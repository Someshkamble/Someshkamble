{
  "nbformat": 4,
  "nbformat_minor": 0,
  "metadata": {
    "colab": {
      "name": "New 1.ipynb",
      "provenance": [],
      "collapsed_sections": [],
      "authorship_tag": "ABX9TyOWzy32QiOl05D3iNotB0jB",
      "include_colab_link": true
    },
    "kernelspec": {
      "name": "python3",
      "display_name": "Python 3"
    },
    "language_info": {
      "name": "python"
    }
  },
  "cells": [
    {
      "cell_type": "markdown",
      "metadata": {
        "id": "view-in-github",
        "colab_type": "text"
      },
      "source": [
        "<a href=\"https://colab.research.google.com/github/Someshkamble/Someshkamble/blob/main/New_1.ipynb\" target=\"_parent\"><img src=\"https://colab.research.google.com/assets/colab-badge.svg\" alt=\"Open In Colab\"/></a>"
      ]
    },
    {
      "cell_type": "code",
      "metadata": {
        "colab": {
          "base_uri": "https://localhost:8080/",
          "height": 531
        },
        "id": "TPDYyvxxRJGv",
        "outputId": "52eda071-ac64-4423-e9b9-fab4e80146dd"
      },
      "source": [
        "#python is Dynamically Typed language(means you don't have to declare data type to variable )\n",
        "print('''Hello''')\n",
        "print(\"\"\"Lets Upgrade\"\"\")\n",
        "\n",
        "print('Hello')\n",
        "print('coders')\n",
        "\n",
        "print('Hello', end='')\n",
        "print('coders')\n",
        "\n",
        "print('hello','coders')\n",
        "\n",
        "print('Hello', end='@')\n",
        "print('coders')\n",
        "\n",
        "a = 20\n",
        "print(type(a)) \n",
        "a ='hello'\n",
        "print(type(a))\n",
        "a='$'\n",
        "print(type(a))\n",
        "\n",
        "\n",
        "x=12.25\n",
        "print(type(x))\n",
        "\n",
        "a=b=c=12.25\n",
        "print(a,b,c)\n",
        "\n",
        "print(id(a))#id is the address of the variable\n",
        "print(id(b))\n",
        "print(id(c))\n",
        "\n",
        "a = b = c= 20\n",
        "b= 30 #immutability\n",
        "print(a, b, c)\n",
        "print(id(a),id(b),id(c))\n",
        "\n",
        "x= int (input(\"Enter first value:\"))\n",
        "y= int (input(\"Enter second value:\"))\n",
        "\n",
        "print(type(x),type(y))\n",
        "print(x+y)\n",
        "x= input('Enter values:')\n",
        "print(x)\n",
        "print(type(x))\n",
        "\n",
        "x=input(\"enter values:\")\n",
        "print(type(x))\n",
        "\n",
        "val=x.split()#string method split\n",
        "print(val)"
      ],
      "execution_count": 36,
      "outputs": [
        {
          "output_type": "stream",
          "text": [
            "Hello\n",
            "Lets Upgrade\n",
            "Hello\n",
            "coders\n",
            "Hellocoders\n",
            "hello coders\n",
            "Hello@coders\n",
            "<class 'int'>\n",
            "<class 'str'>\n",
            "<class 'str'>\n",
            "<class 'float'>\n",
            "12.25 12.25 12.25\n",
            "140504118990288\n",
            "140504118990288\n",
            "140504118990288\n",
            "20 30 20\n",
            "94348439489632 94348439489952 94348439489632\n",
            "Enter first value:10 20 30 40 50 60 70 80 90\n"
          ],
          "name": "stdout"
        },
        {
          "output_type": "error",
          "ename": "ValueError",
          "evalue": "ignored",
          "traceback": [
            "\u001b[0;31m---------------------------------------------------------------------------\u001b[0m",
            "\u001b[0;31mValueError\u001b[0m                                Traceback (most recent call last)",
            "\u001b[0;32m<ipython-input-36-93da24870cb9>\u001b[0m in \u001b[0;36m<module>\u001b[0;34m()\u001b[0m\n\u001b[1;32m     37\u001b[0m \u001b[0mprint\u001b[0m\u001b[0;34m(\u001b[0m\u001b[0mid\u001b[0m\u001b[0;34m(\u001b[0m\u001b[0ma\u001b[0m\u001b[0;34m)\u001b[0m\u001b[0;34m,\u001b[0m\u001b[0mid\u001b[0m\u001b[0;34m(\u001b[0m\u001b[0mb\u001b[0m\u001b[0;34m)\u001b[0m\u001b[0;34m,\u001b[0m\u001b[0mid\u001b[0m\u001b[0;34m(\u001b[0m\u001b[0mc\u001b[0m\u001b[0;34m)\u001b[0m\u001b[0;34m)\u001b[0m\u001b[0;34m\u001b[0m\u001b[0;34m\u001b[0m\u001b[0m\n\u001b[1;32m     38\u001b[0m \u001b[0;34m\u001b[0m\u001b[0m\n\u001b[0;32m---> 39\u001b[0;31m \u001b[0mx\u001b[0m\u001b[0;34m=\u001b[0m \u001b[0mint\u001b[0m \u001b[0;34m(\u001b[0m\u001b[0minput\u001b[0m\u001b[0;34m(\u001b[0m\u001b[0;34m\"Enter first value:\"\u001b[0m\u001b[0;34m)\u001b[0m\u001b[0;34m)\u001b[0m\u001b[0;34m\u001b[0m\u001b[0;34m\u001b[0m\u001b[0m\n\u001b[0m\u001b[1;32m     40\u001b[0m \u001b[0my\u001b[0m\u001b[0;34m=\u001b[0m \u001b[0mint\u001b[0m \u001b[0;34m(\u001b[0m\u001b[0minput\u001b[0m\u001b[0;34m(\u001b[0m\u001b[0;34m\"Enter second value:\"\u001b[0m\u001b[0;34m)\u001b[0m\u001b[0;34m)\u001b[0m\u001b[0;34m\u001b[0m\u001b[0;34m\u001b[0m\u001b[0m\n\u001b[1;32m     41\u001b[0m \u001b[0;34m\u001b[0m\u001b[0m\n",
            "\u001b[0;31mValueError\u001b[0m: invalid literal for int() with base 10: '10 20 30 40 50 60 70 80 90'"
          ]
        }
      ]
    },
    {
      "cell_type": "code",
      "metadata": {
        "id": "eCiiVqCTh2tk"
      },
      "source": [
        "x=input('Enter values:')\n",
        "print(type(x))\n",
        "\n",
        "val = [int(i) for i in x.split()]\n",
        "print(val)"
      ],
      "execution_count": null,
      "outputs": []
    },
    {
      "cell_type": "code",
      "metadata": {
        "colab": {
          "base_uri": "https://localhost:8080/"
        },
        "id": "-10DLSb5mmOe",
        "outputId": "a801b9c8-d636-4f9b-af4d-65b0d6f3e326"
      },
      "source": [
        "li = ['hello',35,10.25,'&']\n",
        "print(li)\n",
        "print(type(li))"
      ],
      "execution_count": 44,
      "outputs": [
        {
          "output_type": "stream",
          "text": [
            "['hello', 35, 10.25, '&']\n",
            "<class 'list'>\n"
          ],
          "name": "stdout"
        }
      ]
    },
    {
      "cell_type": "code",
      "metadata": {
        "colab": {
          "base_uri": "https://localhost:8080/"
        },
        "id": "erUAnDcfmgEv",
        "outputId": "b8c20c85-c2f8-4c11-9abb-bacfb1318805"
      },
      "source": [
        "li=[12,10,1,2,45]\n",
        "li.sort()\n",
        "print(li)"
      ],
      "execution_count": 45,
      "outputs": [
        {
          "output_type": "stream",
          "text": [
            "[1, 2, 10, 12, 45]\n"
          ],
          "name": "stdout"
        }
      ]
    },
    {
      "cell_type": "code",
      "metadata": {
        "colab": {
          "base_uri": "https://localhost:8080/"
        },
        "id": "Xeqd9bd-n8VZ",
        "outputId": "0c22e9ca-45da-40b1-8f74-faa3a17bbf76"
      },
      "source": [
        "li.reverse()\n",
        "print(li)"
      ],
      "execution_count": 46,
      "outputs": [
        {
          "output_type": "stream",
          "text": [
            "[45, 12, 10, 2, 1]\n"
          ],
          "name": "stdout"
        }
      ]
    },
    {
      "cell_type": "code",
      "metadata": {
        "colab": {
          "base_uri": "https://localhost:8080/"
        },
        "id": "uR8yOSe2pYjc",
        "outputId": "502444cf-6194-46ef-e8c0-95779516162f"
      },
      "source": [
        "#Slicing\n",
        "li=[12,10,1,2,45]\n",
        "print(li[0:5]) #start:end"
      ],
      "execution_count": 48,
      "outputs": [
        {
          "output_type": "stream",
          "text": [
            "[12, 10, 1, 2, 45]\n"
          ],
          "name": "stdout"
        }
      ]
    },
    {
      "cell_type": "markdown",
      "metadata": {
        "id": "gHxr0vRBsW1k"
      },
      "source": [
        "x =\"h e l l o\"\n",
        "y = x.split()\n",
        "print(y)"
      ]
    }
  ]
}